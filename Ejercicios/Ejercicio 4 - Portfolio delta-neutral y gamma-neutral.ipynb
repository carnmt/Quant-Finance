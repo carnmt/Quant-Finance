{
 "cells": [
  {
   "cell_type": "markdown",
   "metadata": {},
   "source": [
    "## Ejercicio 4 - Portfolio delta-neutral y gamma-neutral"
   ]
  },
  {
   "cell_type": "markdown",
   "metadata": {},
   "source": [
    "Sea un portfolio con un call comprado, un put vendido y n shares:\n",
    "\n",
    "$\\Pi = c(K_1,T_1) - p(K_2,T_2) + n S$\n",
    "\n",
    "En clase vimos que este portfolio será delta-neutral si:\n",
    "\n",
    "$ N(d_1(K_1,T_1)) - (N(d_1(K_2,T_2)) - 1) + n = 0$\n",
    "\n",
    "y además es gamma neutral:\n",
    "\n",
    "$ \\large \\frac{N'(d_1(K_1,T_1))}{\\sqrt{T_1}} - \\frac{N'(d_1(K_2,T_2))}{\\sqrt{T_2}} = 0$\n",
    "\n",
    "1) Suponer que $K_1$ , $K_2$ y $T_1$ son conocidos (Además de $S_0$, $v$ y $r$ ) y encontrar $T_2$ y $n$.\n",
    "\n",
    "2) Para validar los resultados estudie el siguientes límite:\n",
    "\n",
    "$\\bullet$ Qué se espera para $K_1 = K_2$? Por qué?     "
   ]
  },
  {
   "cell_type": "markdown",
   "metadata": {},
   "source": [
    "#### Parametros sugeridos (tenga en cuenta que puede no haber solución para ciertos valores de los parámetros):"
   ]
  },
  {
   "cell_type": "code",
   "execution_count": 1,
   "metadata": {},
   "outputs": [],
   "source": [
    "t = 0 \n",
    "S_t = 42\n",
    "T1 = 1\n",
    "K1 = 50\n",
    "K2 = 40\n",
    "v = 1\n",
    "r = 0.1"
   ]
  }
 ],
 "metadata": {
  "kernelspec": {
   "display_name": "Python 3",
   "language": "python",
   "name": "python3"
  },
  "language_info": {
   "codemirror_mode": {
    "name": "ipython",
    "version": 3
   },
   "file_extension": ".py",
   "mimetype": "text/x-python",
   "name": "python",
   "nbconvert_exporter": "python",
   "pygments_lexer": "ipython3",
   "version": "3.7.4"
  }
 },
 "nbformat": 4,
 "nbformat_minor": 2
}
