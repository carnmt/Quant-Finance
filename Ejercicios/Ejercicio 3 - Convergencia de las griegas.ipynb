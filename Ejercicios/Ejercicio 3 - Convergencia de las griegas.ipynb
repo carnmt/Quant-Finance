{
 "cells": [
  {
   "cell_type": "markdown",
   "metadata": {},
   "source": [
    "## Ejercicio 3 - Convergencia de las griegas"
   ]
  },
  {
   "cell_type": "markdown",
   "metadata": {},
   "source": [
    "### Estudie la convergencia de la delta de black-scholes calculada numericamente con métodos de MonteCarlo/Arból Binario/Diferencias Finitas.\n",
    "\n",
    "#### Pasos Sugeridos:\n",
    "\n",
    "#### 1) Definición de una función que calcula el precio de un call con inputs S, K, T, t, vol, r para determinado método. Por ejemplo:"
   ]
  },
  {
   "cell_type": "code",
   "execution_count": 1,
   "metadata": {},
   "outputs": [],
   "source": [
    "def precio_call_MC(S, K, T, t, vol, r, parametros_pricer):\n",
    "    \n",
    "    return 0"
   ]
  },
  {
   "cell_type": "markdown",
   "metadata": {},
   "source": [
    "##### Donde parametros del metodo de pricing pueden ser un diccionario con el nro de pasos del árbol, el ancho del mesh para hacer dif. finitas o el numero de samples en un algoritmo de MonteCarlo."
   ]
  },
  {
   "cell_type": "markdown",
   "metadata": {},
   "source": [
    "#### 2) Definición de una función que calcula el precio de un call con inputs S, K, T, t, vol, r."
   ]
  },
  {
   "cell_type": "code",
   "execution_count": 2,
   "metadata": {},
   "outputs": [],
   "source": [
    "def delta_numerica(S, h , K, T, t, vol, r, precio_call, parametros_pricer):\n",
    "\n",
    "    return (precio_call(S + h, K, T, t, vol, r)  - precio_call(S, K, T, t, vol, r))/h"
   ]
  },
  {
   "cell_type": "markdown",
   "metadata": {},
   "source": [
    "#### Donde el precio_call = precio_call_MC para el ejemplo en 1) "
   ]
  },
  {
   "cell_type": "markdown",
   "metadata": {},
   "source": [
    "#### 3) Graficar para ver la convergencia (puede comparar también con el valor teórico de black-scholes"
   ]
  }
 ],
 "metadata": {
  "kernelspec": {
   "display_name": "Python 3",
   "language": "python",
   "name": "python3"
  },
  "language_info": {
   "codemirror_mode": {
    "name": "ipython",
    "version": 3
   },
   "file_extension": ".py",
   "mimetype": "text/x-python",
   "name": "python",
   "nbconvert_exporter": "python",
   "pygments_lexer": "ipython3",
   "version": "3.7.4"
  }
 },
 "nbformat": 4,
 "nbformat_minor": 2
}
