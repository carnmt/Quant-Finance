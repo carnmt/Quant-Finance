{
 "cells": [
  {
   "cell_type": "markdown",
   "metadata": {},
   "source": [
    "# Metodo de Montecarlo"
   ]
  },
  {
   "cell_type": "code",
   "execution_count": null,
   "metadata": {},
   "outputs": [],
   "source": [
    "import sys\n",
    "sys.path.append('..')\n",
    "#Para poder leer los modulos dentro del directorio \n",
    "from Codigo.opcion_europea_bs import opcion_europea_bs\n",
    "from Codigo.opcion_europea_mc import opcion_europea_mc\n",
    "\n",
    "import numpy as np\n",
    "import math"
   ]
  },
  {
   "cell_type": "markdown",
   "metadata": {},
   "source": [
    "opcion_europea_mc\n",
    "Def\n",
    "    Calculador del precio de una opcion Europea con el modelo de MonteCarlo\n",
    "Inputs\n",
    "    - tipo : string - Tipo de contrato entre [\"CALL\",\"PUT\"]\n",
    "    - S : float - Spot price del activo\n",
    "    - K : float - Strike price del contrato\n",
    "    - T : float - Tiempo hasta la expiracion (en años)\n",
    "    - r : float - Tasa 'libre de riesgo' (anualizada)\n",
    "    - sigma : float - Volatilidad implicita (anualizada)\n",
    "    - div : float - Tasa de dividendos continuos (anualizada)\n",
    "    - pasos : int - Cantidad de caminos de montecarlo\n",
    "Outputs\n",
    "    - precio_MC: float - Precio del contrato\n"
   ]
  },
  {
   "cell_type": "code",
   "execution_count": null,
   "metadata": {},
   "outputs": [],
   "source": [
    "#Inicializo los parametros\n",
    "\n",
    "tipo = \"CALL\"\n",
    "S = 100\n",
    "K = 100\n",
    "T = 1\n",
    "r = 0.05\n",
    "sigma = 0.25\n",
    "div = 0"
   ]
  },
  {
   "cell_type": "code",
   "execution_count": null,
   "metadata": {},
   "outputs": [],
   "source": [
    "#Tomo un vector de normales aleatorias\n",
    "pasos = 20000 \n",
    "z = np.random.normal(0,1,pasos)\n",
    "#z\n"
   ]
  },
  {
   "cell_type": "code",
   "execution_count": null,
   "metadata": {},
   "outputs": [],
   "source": [
    "opcion = np.zeros(pasos)"
   ]
  },
  {
   "cell_type": "code",
   "execution_count": null,
   "metadata": {},
   "outputs": [],
   "source": [
    "for i in range(0,pasos):\n",
    "    if tipo == \"CALL\":\n",
    "        payoff = max( 0 , S * math.exp((r-div - 0.5 * math.pow(sigma,2)) * T + sigma * math.sqrt(T)  * z[i]) - K)\n",
    "    elif tipo == \"PUT\":\n",
    "        payoff = max(0, K - S * math.exp((r-div - 0.5 * math.pow(sigma, 2)) * T + sigma * math.sqrt(T) * z[i]) )\n",
    "    opcion[i] = math.exp(-r * T) * payoff\n"
   ]
  },
  {
   "cell_type": "code",
   "execution_count": null,
   "metadata": {},
   "outputs": [],
   "source": [
    "precio_MC = np.mean(opcion)\n",
    "\n",
    "precio_MC"
   ]
  },
  {
   "cell_type": "markdown",
   "metadata": {},
   "source": [
    "### Convergencia del metodo"
   ]
  },
  {
   "cell_type": "code",
   "execution_count": null,
   "metadata": {},
   "outputs": [],
   "source": [
    "tipo = \"PUT\"\n",
    "S = 100\n",
    "K = 100\n",
    "T = 1\n",
    "r = 0.05\n",
    "sigma= 0.25\n",
    "div =0.2\n",
    "\n",
    "pasos_vec = [1,2,3,4,5,6,7,8,9,10,12,14,16,18,20,25,30,40,50,75,100,125,150,200,250,300, 500]      \n",
    "precios = np.zeros(len(pasos_vec))\n",
    "\n",
    "for index in range(len(pasos_vec)):\n",
    "    precios[index] = opcion_europea_mc(tipo, S, K, T, r, sigma, div, pasos_vec[index])\n",
    " \n",
    "precio_BS = opcion_europea_bs(tipo, S, K, T, r, sigma, div)"
   ]
  },
  {
   "cell_type": "code",
   "execution_count": null,
   "metadata": {},
   "outputs": [],
   "source": [
    "from matplotlib import pyplot as plt\n",
    "plt.axhline(y=precio_BS, color = 'black', linestyle='--', label='Precio BlackSholes')\n",
    "plt.plot(pasos_vec,precios,'*', label='Precio Binomial')\n",
    "\n",
    "plt.legend()\n",
    "\n",
    "plt.xlabel('Pasos del arbol Binomial')\n",
    "plt.ylabel('Precio de la opcion')\n",
    "plt.title('Precio de una opcion a tiempo inicial con respecto al numero de pasos del arbol')\n",
    "\n",
    "plt.show()"
   ]
  },
  {
   "cell_type": "markdown",
   "metadata": {},
   "source": [
    "# Metodo de diferencias finitas"
   ]
  },
  {
   "cell_type": "code",
   "execution_count": null,
   "metadata": {},
   "outputs": [],
   "source": [
    "from Codigo.opcion_americana_fd import opcion_americana_fd\n",
    "from Codigo.opcion_europea_fd import opcion_europea_fd\n",
    "\n",
    "from scipy.interpolate import interp1d"
   ]
  },
  {
   "cell_type": "markdown",
   "metadata": {},
   "source": [
    "opcion_europea_fd\n",
    "Def\n",
    "    Calculador del precio de una opcion Europea con el modelo de Diferencias Finitas (metodo explicito)\n",
    "Inputs\n",
    "    - tipo : string - Tipo de contrato entre [\"CALL\",\"PUT\"]\n",
    "    - S : float - Spot price del activo\n",
    "    - K : float - Strike price del contrato\n",
    "    - T : float - Tiempo hasta la expiracion (en años)\n",
    "    - r : float - Tasa 'libre de riesgo' (anualizada)\n",
    "    - sigma : float - Volatilidad implicita (anualizada)\n",
    "    - div : float - Tasa de dividendos continuos (anualizada)\n",
    "Outputs\n",
    "    - precio_FD: float - Precio del contrato"
   ]
  },
  {
   "cell_type": "code",
   "execution_count": null,
   "metadata": {},
   "outputs": [],
   "source": [
    "tipo = \"CALL\"\n",
    "S = 100\n",
    "K = 100\n",
    "T = 1\n",
    "r = 0.05\n",
    "sigma= 0.25\n",
    "div =0.0"
   ]
  },
  {
   "cell_type": "code",
   "execution_count": null,
   "metadata": {},
   "outputs": [],
   "source": [
    "#Hadrcode de la grilla de diferencias finitas\n",
    "M = 160\n",
    "N = 1600\n",
    "dS = 2 * S / M\n",
    "dt = T / N"
   ]
  },
  {
   "cell_type": "code",
   "execution_count": null,
   "metadata": {},
   "outputs": [],
   "source": [
    "# Grilla de spots y tiempos\n",
    "S_vec = np.linspace(0, 2*S, M+1)\n",
    "t_vec = np.linspace(0, T, N+1)"
   ]
  },
  {
   "cell_type": "code",
   "execution_count": null,
   "metadata": {},
   "outputs": [],
   "source": [
    "# Armado de la matriz tridiagonal\n",
    "j = np.arange(1,M)\n",
    "j2 = np.zeros(M-1)\n",
    "aj = np.zeros(M-1)\n",
    "bj = np.zeros(M-1)\n",
    "cj = np.zeros(M-1)\n",
    "\n",
    "for index in range(0,M-1):\n",
    "    sigma2 = sigma*sigma\n",
    "    j2[index] = j[index] * j[index]\n",
    "    aj[index] = 0.5 * dt * (sigma2 * j2[index]- (r-div) * j[index])\n",
    "    bj[index] = 1-dt * (sigma2 * j2[index] + r)\n",
    "    cj[index] = 0.5 * dt * (sigma2 * j2[index] + (r-div) * j[index])"
   ]
  },
  {
   "cell_type": "code",
   "execution_count": null,
   "metadata": {},
   "outputs": [],
   "source": [
    "# Matriz tridiagonal\n",
    "\n",
    "A = np.diag(bj)\n",
    "for index in range(0, M - 2):\n",
    "    A[index + 1, index] = aj[index + 1]  # terms below the diagonal\n",
    "    A[index, index + 1] = cj[index]  # terms above the diagonal"
   ]
  },
  {
   "cell_type": "code",
   "execution_count": null,
   "metadata": {},
   "outputs": [],
   "source": [
    "# Matriz de precios de la opcion\n",
    "opcion_precios = np.zeros((M+1,N+1))"
   ]
  },
  {
   "cell_type": "code",
   "execution_count": null,
   "metadata": {},
   "outputs": [],
   "source": [
    "#Condiciones de contorno\n",
    "\n",
    "# Condicion final - Payoff\n",
    "\n",
    "if tipo == \"CALL\":\n",
    "    opcion_precios[:,-1] = np.maximum(S_vec - K, 0)\n",
    "elif tipo == \"PUT\":\n",
    "    opcion_precios[:,-1] = np.maximum(K - S_vec, 0)"
   ]
  },
  {
   "cell_type": "code",
   "execution_count": null,
   "metadata": {},
   "outputs": [],
   "source": [
    "# Casos limite en S=0 y S~inf\n",
    "\n",
    "if tipo == \"CALL\":\n",
    "    opcion_precios[0, :] = 0\n",
    "    opcion_precios[-1, :] = S_vec[-1]*np.exp(-div*np.flip(t_vec)) - K * np.exp(-r*np.flip(t_vec))\n",
    "elif tipo == \"PUT\":\n",
    "    opcion_precios[0, :] = K * np.exp(-r * np.flip(t_vec))\n",
    "    opcion_precios[-1, :] = 0 #K * np.exp(-r * np.flip(t_vec))"
   ]
  },
  {
   "cell_type": "code",
   "execution_count": null,
   "metadata": {},
   "outputs": [],
   "source": [
    "    \n",
    "# Calculo en el interior\n",
    "# variable auxiliar para sumar en la primer y ultimo fila\n",
    "constantes_bordes = np.array((aj[0], cj[-1]))\n",
    "for i in list(reversed(range(0,N))):\n",
    "\n",
    "    opcion_precios[1:M,i] = A @ opcion_precios[1:M,i+1]\n",
    "    #Offset the first and last terms\n",
    "    opcion_precios[[1,M-1],i] = opcion_precios[[1,M-1],i] + constantes_bordes * opcion_precios[[0, M],i+1];"
   ]
  },
  {
   "cell_type": "code",
   "execution_count": null,
   "metadata": {},
   "outputs": [],
   "source": [
    "#En este punto ya esta TODA la grilla, ahora calculo lo requerido\n",
    "\n",
    "f = interp1d(S_vec,opcion_precios[:,0])\n",
    "precio_FD = float(f(S))\n",
    "\n",
    "precio_FD\n"
   ]
  },
  {
   "cell_type": "code",
   "execution_count": null,
   "metadata": {},
   "outputs": [],
   "source": [
    "from mpl_toolkits import mplot3d\n",
    "\n",
    "X, Y = np.meshgrid(t_vec, S_vec)\n",
    "Z = opcion_precios"
   ]
  },
  {
   "cell_type": "code",
   "execution_count": null,
   "metadata": {},
   "outputs": [],
   "source": [
    "print('X', np.shape(X))\n",
    "print('Y', np.shape(Y))\n",
    "print('Z', np.shape(Z))"
   ]
  },
  {
   "cell_type": "code",
   "execution_count": null,
   "metadata": {},
   "outputs": [],
   "source": [
    "fig = plt.figure()\n",
    "\n",
    "ax = plt.axes(projection='3d')\n",
    "ax.plot_surface(X, Y, Z, rstride=1, cstride=1,\n",
    "                cmap='winter', edgecolor='none')\n",
    "\n",
    "ax.set_title('surface');\n",
    "ax.set_xlabel('Tiempo - t')\n",
    "ax.set_ylabel('Precio del subyacente - S')\n",
    "ax.set_zlabel('Precio del Derivado')\n",
    "\n",
    "plt.show()"
   ]
  },
  {
   "cell_type": "code",
   "execution_count": null,
   "metadata": {},
   "outputs": [],
   "source": [
    "#import mayavi.mlab as mlab\n",
    "\n",
    "#s = mlab.mesh(X, Y, Z)\n",
    "#alpha = 30  # degrees\n",
    "#mlab.view(azimuth=0, elevation=90, roll=-90+alpha)\n",
    "\n",
    "#mlab.show()"
   ]
  },
  {
   "cell_type": "markdown",
   "metadata": {},
   "source": [
    "# QuantLib o Introduccion a una Verdadera plataforma de pricing/riesgo"
   ]
  },
  {
   "cell_type": "code",
   "execution_count": null,
   "metadata": {},
   "outputs": [],
   "source": [
    "from QuantLib import *\n",
    "#%matplotlib inline\n",
    "\n",
    "from Codigo.utils_plots import *"
   ]
  },
  {
   "cell_type": "markdown",
   "metadata": {},
   "source": [
    "### Opciones"
   ]
  },
  {
   "cell_type": "markdown",
   "metadata": {},
   "source": [
    "### Supongamos una opcion de AAPL con precio strike de 450 expirando el 16 de octubre de 2020. Supongamos que el spot es 440. LA vol implicita es sabida que es 31%, y tiene un dividendo de 0.75%. Valuemos la opcion al dia de hoy (10 de Agosto 2020)"
   ]
  },
  {
   "cell_type": "markdown",
   "metadata": {},
   "source": [
    "#### Definimos los inputs"
   ]
  },
  {
   "cell_type": "code",
   "execution_count": null,
   "metadata": {},
   "outputs": [],
   "source": [
    "S = 456.30\n",
    "K = 460\n",
    "sigma = 0.3394 # the historical vols for a year\n",
    "div =  0.075\n",
    "option_type = Option.Call\n",
    "r = 0.0013"
   ]
  },
  {
   "cell_type": "markdown",
   "metadata": {},
   "source": [
    "#### Para las fechas QuantLib es mas preciso. Pide convenciones y calendarios"
   ]
  },
  {
   "cell_type": "code",
   "execution_count": null,
   "metadata": {},
   "outputs": [],
   "source": [
    "maturity_date = Date(16, 10, 2020)\n",
    "calculation_date = Date(6, 8, 2020)\n",
    "day_count = Actual365Fixed()\n",
    "calendar = UnitedStates()\n",
    "Settings.instance().evaluationDate = calculation_date"
   ]
  },
  {
   "cell_type": "markdown",
   "metadata": {},
   "source": [
    "#### Aqui construimos a la opcion europea"
   ]
  },
  {
   "cell_type": "code",
   "execution_count": null,
   "metadata": {},
   "outputs": [],
   "source": [
    "payoff = PlainVanillaPayoff(option_type, K)\n",
    "exercise = EuropeanExercise(maturity_date)\n",
    "european_option = VanillaOption(payoff, exercise)"
   ]
  },
  {
   "cell_type": "markdown",
   "metadata": {},
   "source": [
    "#### Aca constuimos el proceso de Black Sholes Merton"
   ]
  },
  {
   "cell_type": "markdown",
   "metadata": {},
   "source": [
    "##### El objeto spot"
   ]
  },
  {
   "cell_type": "code",
   "execution_count": null,
   "metadata": {},
   "outputs": [],
   "source": [
    "spot_obj = QuoteHandle(SimpleQuote(S))"
   ]
  },
  {
   "cell_type": "markdown",
   "metadata": {},
   "source": [
    "##### El objeto curva de descuento (flat en este caso, constante)"
   ]
  },
  {
   "cell_type": "code",
   "execution_count": null,
   "metadata": {},
   "outputs": [],
   "source": [
    "rate_obj = YieldTermStructureHandle(FlatForward(calculation_date, \n",
    "                                                            r, \n",
    "                                                    day_count))"
   ]
  },
  {
   "cell_type": "markdown",
   "metadata": {},
   "source": [
    "##### El objeto curva de dividendos (flat en este caso, constante)"
   ]
  },
  {
   "cell_type": "code",
   "execution_count": null,
   "metadata": {},
   "outputs": [],
   "source": [
    "dividend_obj = YieldTermStructureHandle(FlatForward(calculation_date, \n",
    "                                                      div, \n",
    "                                                      day_count))"
   ]
  },
  {
   "cell_type": "markdown",
   "metadata": {},
   "source": [
    "##### El objeto volatilidad (flat en este caso, constante)"
   ]
  },
  {
   "cell_type": "code",
   "execution_count": null,
   "metadata": {},
   "outputs": [],
   "source": [
    "vol_obj = BlackVolTermStructureHandle(BlackConstantVol(calculation_date, \n",
    "                                                                 calendar, \n",
    "                                                                 sigma, \n",
    "                                                             day_count))"
   ]
  },
  {
   "cell_type": "code",
   "execution_count": null,
   "metadata": {},
   "outputs": [],
   "source": [
    "##### El proceso propiamente dicho"
   ]
  },
  {
   "cell_type": "code",
   "execution_count": null,
   "metadata": {},
   "outputs": [],
   "source": [
    "bsm_process = BlackScholesMertonProcess(spot_obj, \n",
    "                                        dividend_obj, \n",
    "                                        rate_obj, \n",
    "                                        vol_obj)"
   ]
  },
  {
   "cell_type": "markdown",
   "metadata": {},
   "source": [
    "## Modelos de precio"
   ]
  },
  {
   "cell_type": "markdown",
   "metadata": {},
   "source": [
    "###  `AnalyticEuropeanEngine` (Black Scholes)"
   ]
  },
  {
   "cell_type": "code",
   "execution_count": null,
   "metadata": {},
   "outputs": [],
   "source": [
    "european_option.setPricingEngine(AnalyticEuropeanEngine(bsm_process))\n",
    "\n",
    "bs_price = european_option.NPV()\n",
    "print(\"El precio teorico usando el modelo de BS es: \", bs_price)"
   ]
  },
  {
   "cell_type": "markdown",
   "metadata": {},
   "source": [
    "###  `FdBlackScholesVanillaEngine` (Diferencias Finitas)"
   ]
  },
  {
   "cell_type": "code",
   "execution_count": null,
   "metadata": {},
   "outputs": [],
   "source": [
    "european_option.setPricingEngine(FdBlackScholesVanillaEngine(bsm_process))\n",
    "\n",
    "fd_price = european_option.NPV()\n",
    "print(\"El precio teorico usando el modelo de Dif. Finitas es: \", fd_price)"
   ]
  },
  {
   "cell_type": "markdown",
   "metadata": {},
   "source": [
    "###  `MCEuropeanEngine` (Montecarlo)"
   ]
  },
  {
   "cell_type": "code",
   "execution_count": null,
   "metadata": {},
   "outputs": [],
   "source": [
    "european_option.setPricingEngine(MCEuropeanEngine(bsm_process, \"PseudoRandom\", timeSteps=20, requiredSamples=500000))\n",
    "\n",
    "mc_price = european_option.NPV()\n",
    "print(\"El precio teorico usando el modelo de MonteCarlo es: \",  mc_price)"
   ]
  },
  {
   "cell_type": "markdown",
   "metadata": {},
   "source": [
    "###  `BinomialVanillaEngine` (Binomial)"
   ]
  },
  {
   "cell_type": "code",
   "execution_count": null,
   "metadata": {},
   "outputs": [],
   "source": [
    "european_option.setPricingEngine(BinomialVanillaEngine(bsm_process, \"crr\", 1000))\n",
    "\n",
    "bin_price = european_option.NPV()\n",
    "print(\"El precio teorico usando el modelo Binomial es: \",  bin_price)"
   ]
  },
  {
   "cell_type": "markdown",
   "metadata": {},
   "source": [
    "# Comparacion de TODOS* los modelos vistos"
   ]
  },
  {
   "cell_type": "code",
   "execution_count": null,
   "metadata": {},
   "outputs": [],
   "source": [
    "S = 100\n",
    "K = 100\n",
    "sigma = 0.25 # the historical vols for a year\n",
    "div =  0.0\n",
    "r = 0.05\n",
    "\n",
    "tipo = 'CALL'\n",
    "\n",
    "option_type = Option.Call\n",
    "\n",
    "maturity_date = Date(10, 8, 2021)\n",
    "calculation_date = Date(10, 8, 2020)\n",
    "day_count = Actual365Fixed()\n",
    "calendar = UnitedStates()\n",
    "Settings.instance().evaluationDate = calculation_date\n",
    "\n",
    "T = 1\n",
    "\n"
   ]
  },
  {
   "cell_type": "markdown",
   "metadata": {},
   "source": [
    "## Pricers vistos en clase"
   ]
  },
  {
   "cell_type": "code",
   "execution_count": null,
   "metadata": {},
   "outputs": [],
   "source": [
    "from Codigo.opcion_europea_bs import opcion_europea_bs\n",
    "from Codigo.opcion_europea_mc import opcion_europea_mc\n",
    "from Codigo.opcion_americana_bin import opcion_americana_bin\n",
    "from Codigo.opcion_americana_fd import opcion_americana_fd\n",
    "from Codigo.opcion_europea_bin_c import opcion_europea_bin_c\n",
    "from Codigo.opcion_europea_fd import opcion_europea_fd\n",
    "from Codigo.opcion_europea_bin import opcion_europea_bin\n"
   ]
  },
  {
   "cell_type": "code",
   "execution_count": null,
   "metadata": {},
   "outputs": [],
   "source": [
    "precio_bs = opcion_europea_bs(tipo, S, K, T, r, sigma, div)\n",
    "precio_bin = opcion_europea_bin(tipo, S, K, T, r, sigma, div, 1000)\n",
    "precio_mc = opcion_europea_mc(tipo, S, K, T, r, sigma, div, 10000)\n",
    "precio_fd = opcion_europea_fd(tipo, S, K, T, r, sigma, div)\n"
   ]
  },
  {
   "cell_type": "markdown",
   "metadata": {},
   "source": [
    "## Precios QuantLib"
   ]
  },
  {
   "cell_type": "code",
   "execution_count": null,
   "metadata": {},
   "outputs": [],
   "source": [
    "payoff = PlainVanillaPayoff(option_type, K)\n",
    "exercise = EuropeanExercise(maturity_date)\n",
    "european_option = VanillaOption(payoff, exercise)\n",
    "\n",
    "spot_obj = QuoteHandle(SimpleQuote(S))\n",
    "\n",
    "rate_obj = YieldTermStructureHandle(FlatForward(calculation_date, \n",
    "                                                            r, \n",
    "                                                    day_count))\n",
    "\n",
    "dividend_obj = YieldTermStructureHandle(FlatForward(calculation_date, \n",
    "                                                      div, \n",
    "                                                      day_count))\n",
    "\n",
    "vol_obj = BlackVolTermStructureHandle(BlackConstantVol(calculation_date, \n",
    "                                                                 calendar, \n",
    "                                                                 sigma, \n",
    "                                                             day_count))\n",
    "\n",
    "bsm_process = BlackScholesMertonProcess(spot_obj, \n",
    "                                        dividend_obj, \n",
    "                                        rate_obj, \n",
    "                                        vol_obj)\n",
    "\n"
   ]
  },
  {
   "cell_type": "code",
   "execution_count": null,
   "metadata": {},
   "outputs": [],
   "source": [
    "european_option.setPricingEngine(AnalyticEuropeanEngine(bsm_process))\n",
    "bs_price = european_option.NPV()\n",
    "\n",
    "european_option.setPricingEngine(FdBlackScholesVanillaEngine(bsm_process))\n",
    "fd_price = european_option.NPV()\n",
    "\n",
    "european_option.setPricingEngine(MCEuropeanEngine(bsm_process, \"PseudoRandom\", timeSteps=20, requiredSamples=500000))\n",
    "mc_price = european_option.NPV()\n",
    "\n",
    "european_option.setPricingEngine(BinomialVanillaEngine(bsm_process, \"crr\", 1000))\n",
    "bin_price = european_option.NPV()\n",
    "\n",
    "\n"
   ]
  },
  {
   "cell_type": "code",
   "execution_count": null,
   "metadata": {},
   "outputs": [],
   "source": [
    "print(\"Precio modelo BS visto en clase:\", precio_bs)\n",
    "print(\"Precio modelo Binomial visto en clase:\", precio_bin)\n",
    "print(\"Precio modelo Montecarlo visto en clase:\", precio_mc)\n",
    "print(\"Precio modelo Dif. Finitas visto en clase:\", precio_fd)\n",
    "\n",
    "\n",
    "print(\"Precio modelo BS QuantLib\", bs_price)\n",
    "print(\"Precio modelo Binomial QuantLib:\", bin_price)\n",
    "print(\"Precio modelo Montecarlo QuantLib:\", mc_price)\n",
    "print(\"Precio modelo Dif. FinitasQuantLib:\", fd_price)\n"
   ]
  }
 ],
 "metadata": {
  "kernelspec": {
   "display_name": "Python 3",
   "language": "python",
   "name": "python3"
  },
  "language_info": {
   "codemirror_mode": {
    "name": "ipython",
    "version": 3
   },
   "file_extension": ".py",
   "mimetype": "text/x-python",
   "name": "python",
   "nbconvert_exporter": "python",
   "pygments_lexer": "ipython3",
   "version": "3.7.6"
  }
 },
 "nbformat": 4,
 "nbformat_minor": 1
}
