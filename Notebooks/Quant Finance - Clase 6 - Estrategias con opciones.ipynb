{
 "cells": [
  {
   "cell_type": "markdown",
   "metadata": {},
   "source": [
    "## Quant Finance - Clase 6 - Estrategias con opciones"
   ]
  },
  {
   "cell_type": "code",
   "execution_count": null,
   "metadata": {},
   "outputs": [],
   "source": [
    "from math import log, sqrt, exp\n",
    "from scipy.stats import norm\n",
    "import matplotlib.pyplot as plt\n",
    "import numpy as np"
   ]
  },
  {
   "cell_type": "markdown",
   "metadata": {},
   "source": [
    "#### Definimos formula de BS y payoff de call/puts"
   ]
  },
  {
   "cell_type": "code",
   "execution_count": null,
   "metadata": {},
   "outputs": [],
   "source": [
    "def BSFormula(S_t, t, T, K, v, r, f):\n",
    "    d_plus  = ( log( S_t/K ) + ( r + v**2 / 2 ) * (T-t) ) / ( v * sqrt( T-t ) )  \n",
    "    d_minus = ( log( S_t/K ) + ( r - v**2 / 2 ) * (T-t) ) / ( v * sqrt( T-t ) )\n",
    "    df = exp( -r * (T-t) )\n",
    "    return f * ( norm.cdf(f * d_plus) * S_t - norm.cdf(f * d_minus) * K * df )\n",
    "\n",
    "def call_payoff(S,K): \n",
    "    return max(S - K, 0)\n",
    "\n",
    "def put_payoff(S,K): \n",
    "    return max(K - S, 0)"
   ]
  },
  {
   "cell_type": "markdown",
   "metadata": {},
   "source": [
    "#### Seteamos los parámetros:"
   ]
  },
  {
   "cell_type": "code",
   "execution_count": null,
   "metadata": {},
   "outputs": [],
   "source": [
    "t = 0\n",
    "T = 1\n",
    "K = 50\n",
    "v = 0.6\n",
    "r = 0.01\n",
    "S = 48\n",
    "c = BSFormula(S, t, T, K, v, r, +1)\n",
    "p = BSFormula(S, t, T, K, v, r, -1)"
   ]
  },
  {
   "cell_type": "markdown",
   "metadata": {},
   "source": [
    "#### Valores de las primas de las opciones con las que vamos a construir algunas estrategias"
   ]
  },
  {
   "cell_type": "code",
   "execution_count": null,
   "metadata": {},
   "outputs": [],
   "source": [
    "c"
   ]
  },
  {
   "cell_type": "code",
   "execution_count": null,
   "metadata": {},
   "outputs": [],
   "source": [
    "p"
   ]
  },
  {
   "cell_type": "markdown",
   "metadata": {},
   "source": [
    "#### Payoff de las opciones"
   ]
  },
  {
   "cell_type": "code",
   "execution_count": null,
   "metadata": {},
   "outputs": [],
   "source": [
    "x = np.arange(0, 100, 0.1)\n",
    "fig, ax = plt.subplots()\n",
    "plt.plot(x, [call_payoff(xi,K) - c for xi in x], label='long call')\n",
    "plt.plot(x, [put_payoff(xi,K) - p for xi in x], label='long put')\n",
    "\n",
    "\n",
    "ax.grid()\n",
    "plt.legend(loc='upper right')\n",
    "plt.title('')\n",
    "plt.xlabel('S')\n",
    "plt.ylabel('Payoff')\n",
    "plt.show()"
   ]
  },
  {
   "cell_type": "markdown",
   "metadata": {},
   "source": [
    "#### Payoff de un long/short share"
   ]
  },
  {
   "cell_type": "code",
   "execution_count": null,
   "metadata": {},
   "outputs": [],
   "source": [
    "x = np.arange(0, 100, 0.1)\n",
    "fig, ax = plt.subplots()\n",
    "plt.plot(x, x, label='long share')\n",
    "plt.plot(x, - x + S, label='short share')\n",
    "\n",
    "\n",
    "ax.grid()\n",
    "plt.xlim(0,48)\n",
    "plt.ylim(0,48)\n",
    "plt.legend(loc='upper right')\n",
    "plt.title('')\n",
    "plt.xlabel('S')\n",
    "plt.ylabel('Payoff')\n",
    "plt.show()"
   ]
  },
  {
   "cell_type": "markdown",
   "metadata": {},
   "source": [
    "## Covered Call"
   ]
  },
  {
   "cell_type": "markdown",
   "metadata": {},
   "source": [
    "#### Long un share, short un call"
   ]
  },
  {
   "cell_type": "code",
   "execution_count": null,
   "metadata": {},
   "outputs": [],
   "source": [
    "fig, ax = plt.subplots()\n",
    "\n",
    "x = np.arange(0, 100, 0.1)\n",
    "plt.plot(x, [ - call_payoff(xi,K) + xi + c for xi in x], label='covered call')\n",
    "\n",
    "plt.plot(x, x, label='long stock')\n",
    "\n",
    "\n",
    "ax.grid()\n",
    "plt.legend(loc='upper right')\n",
    "plt.title('')\n",
    "plt.xlabel('S')\n",
    "plt.ylabel('Payoff')\n",
    "plt.show()"
   ]
  },
  {
   "cell_type": "markdown",
   "metadata": {},
   "source": [
    "## Covered Put"
   ]
  },
  {
   "cell_type": "markdown",
   "metadata": {},
   "source": [
    "#### Short un share, short un put"
   ]
  },
  {
   "cell_type": "code",
   "execution_count": null,
   "metadata": {},
   "outputs": [],
   "source": [
    "fig, ax = plt.subplots()\n",
    "\n",
    "x = np.arange(0, 100, 0.1)\n",
    "plt.plot(x, [ - put_payoff(xi,K) - xi + p + S for xi in x], label='covered put')\n",
    "\n",
    "plt.plot(x, -x + S, label='short stock')\n",
    "\n",
    "\n",
    "ax.grid()\n",
    "plt.legend(loc='upper right')\n",
    "plt.title('')\n",
    "plt.xlabel('S')\n",
    "plt.ylabel('Payoff')\n",
    "plt.show()"
   ]
  },
  {
   "cell_type": "markdown",
   "metadata": {},
   "source": [
    "## Protective Call"
   ]
  },
  {
   "cell_type": "markdown",
   "metadata": {},
   "source": [
    "#### Short un share, long un call"
   ]
  },
  {
   "cell_type": "code",
   "execution_count": null,
   "metadata": {},
   "outputs": [],
   "source": [
    "fig, ax = plt.subplots()\n",
    "\n",
    "x = np.arange(0, 100, 0.1)\n",
    "plt.plot(x, [ call_payoff(xi,K) - xi - c + S for xi in x], label='protective call')\n",
    "\n",
    "plt.plot(x, - x + S, label='short stock')\n",
    "\n",
    "\n",
    "ax.grid()\n",
    "plt.legend(loc='upper right')\n",
    "plt.title('')\n",
    "plt.xlabel('S')\n",
    "plt.ylabel('Payoff')\n",
    "plt.show()"
   ]
  },
  {
   "cell_type": "markdown",
   "metadata": {},
   "source": [
    "## Protective Put"
   ]
  },
  {
   "cell_type": "markdown",
   "metadata": {},
   "source": [
    "#### Long un share, long un put"
   ]
  },
  {
   "cell_type": "code",
   "execution_count": null,
   "metadata": {},
   "outputs": [],
   "source": [
    "fig, ax = plt.subplots()\n",
    "\n",
    "x = np.arange(0, 100, 0.1)\n",
    "plt.plot(x, [ put_payoff(xi,K) + xi - p for xi in x], label='protective put')\n",
    "\n",
    "plt.plot(x, x, label='long stock')\n",
    "\n",
    "\n",
    "ax.grid()\n",
    "plt.legend(loc='upper right')\n",
    "plt.title('')\n",
    "plt.xlabel('S')\n",
    "plt.ylabel('Payoff')\n",
    "plt.show()"
   ]
  },
  {
   "cell_type": "markdown",
   "metadata": {},
   "source": [
    "## Straddle"
   ]
  },
  {
   "cell_type": "markdown",
   "metadata": {},
   "source": [
    "#### Long un put, long un call"
   ]
  },
  {
   "cell_type": "code",
   "execution_count": null,
   "metadata": {},
   "outputs": [],
   "source": [
    "fig, ax = plt.subplots()\n",
    "\n",
    "x = np.arange(0, 100, 0.1)\n",
    "plt.plot(x, [ put_payoff(xi,K) + call_payoff(xi,K) - c - p for xi in x], label='straddle')\n",
    "\n",
    "\n",
    "ax.grid()\n",
    "plt.legend(loc='upper right')\n",
    "plt.title('')\n",
    "plt.xlabel('S')\n",
    "plt.ylabel('Payoff')\n",
    "plt.show()"
   ]
  },
  {
   "cell_type": "markdown",
   "metadata": {},
   "source": [
    "## Bull Call Spread"
   ]
  },
  {
   "cell_type": "markdown",
   "metadata": {},
   "source": [
    "#### Long un ITM call, short un OTM call"
   ]
  },
  {
   "cell_type": "code",
   "execution_count": null,
   "metadata": {},
   "outputs": [],
   "source": [
    "S = 48\n",
    "K1 = 40\n",
    "K2 = 60\n",
    "c1 = BSFormula(S, t, T, K1, v, r, +1) #ATM\n",
    "c2 = BSFormula(S, t, T, K2, v, r, +1) #OTM"
   ]
  },
  {
   "cell_type": "code",
   "execution_count": null,
   "metadata": {},
   "outputs": [],
   "source": [
    "fig, ax = plt.subplots()\n",
    "\n",
    "x = np.arange(0, 100, 0.1)\n",
    "plt.plot(x, [ call_payoff(xi,K1) - call_payoff(xi,K2) - c1 + c2 for xi in x], label='bull spread')\n",
    "\n",
    "plt.plot(x, x - S, label='long stock')\n",
    "\n",
    "plt.ylim(-20,20)\n",
    "ax.grid()\n",
    "plt.legend(loc='upper right')\n",
    "plt.title('')\n",
    "plt.xlabel('S')\n",
    "plt.ylabel('Payoff')\n",
    "plt.show()"
   ]
  }
 ],
 "metadata": {
  "kernelspec": {
   "display_name": "Python 3",
   "language": "python",
   "name": "python3"
  },
  "language_info": {
   "codemirror_mode": {
    "name": "ipython",
    "version": 3
   },
   "file_extension": ".py",
   "mimetype": "text/x-python",
   "name": "python",
   "nbconvert_exporter": "python",
   "pygments_lexer": "ipython3",
   "version": "3.7.4"
  }
 },
 "nbformat": 4,
 "nbformat_minor": 2
}
