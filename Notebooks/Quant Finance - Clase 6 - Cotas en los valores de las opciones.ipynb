{
 "cells": [
  {
   "cell_type": "markdown",
   "metadata": {},
   "source": [
    "## Quant Finance - Clase 6 - Cotas en los valores de las opciones"
   ]
  },
  {
   "cell_type": "code",
   "execution_count": null,
   "metadata": {},
   "outputs": [],
   "source": [
    "from math import log, sqrt, exp\n",
    "from scipy.stats import norm\n",
    "import matplotlib.pyplot as plt\n",
    "import numpy as np"
   ]
  },
  {
   "cell_type": "markdown",
   "metadata": {},
   "source": [
    "#### Formula de Black-Scholes:"
   ]
  },
  {
   "cell_type": "code",
   "execution_count": null,
   "metadata": {},
   "outputs": [],
   "source": [
    "def BSFormula(S_t, t, T, K, v, r, f):\n",
    "    d_plus  = ( log( S_t/K ) + ( r + v**2 / 2 ) * (T-t) ) / ( v * sqrt( T-t ) )  \n",
    "    d_minus = ( log( S_t/K ) + ( r - v**2 / 2 ) * (T-t) ) / ( v * sqrt( T-t ) )\n",
    "    df = exp( -r * (T-t) )\n",
    "    return f * ( norm.cdf(f * d_plus) * S_t - norm.cdf(f * d_minus) * K * df )"
   ]
  },
  {
   "cell_type": "markdown",
   "metadata": {},
   "source": [
    "#### Seteamos los parametros fijos:"
   ]
  },
  {
   "cell_type": "code",
   "execution_count": null,
   "metadata": {},
   "outputs": [],
   "source": [
    "S_t = 42\n",
    "t = 0 \n",
    "T = 1\n",
    "K = 50\n",
    "v = 0.5\n",
    "r = 0.1\n",
    "f = 1 # setea una call"
   ]
  },
  {
   "cell_type": "markdown",
   "metadata": {},
   "source": [
    "#### Graficamos en función de St para varios valores de la volatilidad:"
   ]
  },
  {
   "cell_type": "code",
   "execution_count": null,
   "metadata": {},
   "outputs": [],
   "source": [
    "x = np.arange(0.1, 100, 0.1)\n",
    "v = np.arange(0.2, 2, 0.2)\n",
    "[plt.plot(x, [BSFormula(xi, t, T, K, v, r, f) for xi in x]) for vi in v]\n",
    "\n",
    "plt.plot(x, x, 'r--')\n",
    "plt.plot(x, [xi - K * exp (-r * T) for xi in x], 'r--')\n",
    "\n",
    "plt.ylim(0, 100)\n",
    "\n",
    "plt.title('')\n",
    "plt.xlabel('St')\n",
    "plt.ylabel('Call Price')\n",
    "plt.show()"
   ]
  }
 ],
 "metadata": {
  "kernelspec": {
   "display_name": "Python 3",
   "language": "python",
   "name": "python3"
  },
  "language_info": {
   "codemirror_mode": {
    "name": "ipython",
    "version": 3
   },
   "file_extension": ".py",
   "mimetype": "text/x-python",
   "name": "python",
   "nbconvert_exporter": "python",
   "pygments_lexer": "ipython3",
   "version": "3.7.4"
  }
 },
 "nbformat": 4,
 "nbformat_minor": 2
}
