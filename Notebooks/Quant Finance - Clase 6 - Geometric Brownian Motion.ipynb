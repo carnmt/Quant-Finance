{
 "cells": [
  {
   "cell_type": "markdown",
   "metadata": {},
   "source": [
    "# Quant Finance - Clase 6"
   ]
  },
  {
   "cell_type": "markdown",
   "metadata": {},
   "source": [
    "## Geometric Brownian Motion (Black-Scholes Model)"
   ]
  },
  {
   "cell_type": "code",
   "execution_count": null,
   "metadata": {},
   "outputs": [],
   "source": [
    "import sys\n",
    "sys.path.append('..')\n",
    "#Para poder leer los modulos dentro del directorio \n",
    "from library.bsmodel import BlackScholesModel\n",
    "import numpy as np\n",
    "import matplotlib.pyplot as plt\n",
    "from math import sqrt"
   ]
  },
  {
   "cell_type": "code",
   "execution_count": null,
   "metadata": {},
   "outputs": [],
   "source": [
    "model = BlackScholesModel( rate = 0.1, volatility = 0.2 )"
   ]
  },
  {
   "cell_type": "code",
   "execution_count": null,
   "metadata": {},
   "outputs": [],
   "source": [
    "N = 100000\n",
    "w_samples = np.random.normal(0, 1, N)"
   ]
  },
  {
   "cell_type": "code",
   "execution_count": null,
   "metadata": {},
   "outputs": [],
   "source": [
    "prices = model.S_T_samples( 1, 1, w_samples )\n",
    "prices"
   ]
  },
  {
   "cell_type": "code",
   "execution_count": null,
   "metadata": {},
   "outputs": [],
   "source": [
    "plt.xlim(0, 2.5)\n",
    "hist = plt.hist(prices, bins = 100)\n",
    "plt.xlabel('S')\n",
    "plt.show()"
   ]
  },
  {
   "cell_type": "code",
   "execution_count": null,
   "metadata": {},
   "outputs": [],
   "source": [
    "r=0.1\n",
    "vol = 0.2\n",
    "\n",
    "S_t = 1\n",
    "steps = 10\n",
    "dt = 1/steps"
   ]
  },
  {
   "cell_type": "code",
   "execution_count": null,
   "metadata": {},
   "outputs": [],
   "source": [
    "prices2 = []\n",
    "paths=[]\n",
    "\n",
    "for j in range(N):\n",
    "    S = S_t\n",
    "    path = [S_t]\n",
    "    for i in range(steps):\n",
    "        #dS = r * S * dt + vol * S * np.random.normal(0, 1) * sqrt(dt)\n",
    "        dS = model.dS( S, dt )\n",
    "        S = S + dS\n",
    "        path.append(S)\n",
    "    prices2.append(S)\n",
    "    paths.append(path)\n",
    "len(prices2)"
   ]
  },
  {
   "cell_type": "code",
   "execution_count": null,
   "metadata": {},
   "outputs": [],
   "source": [
    "plt.xlim(0, 2.5)\n",
    "bins = np.linspace(0, 2.5, 100)\n",
    "plt.hist(prices, bins, alpha=0.5, label='analytic')\n",
    "plt.hist(prices2, bins, alpha=0.5, label='MC')\n",
    "plt.legend(loc='upper right')\n",
    "plt.xlabel('S')\n",
    "plt.show()"
   ]
  },
  {
   "cell_type": "code",
   "execution_count": null,
   "metadata": {},
   "outputs": [],
   "source": [
    "n_paths = 100 #numero de paths ploteados\n",
    "t = [i / steps for i in range(0,steps + 1)]\n",
    "[plt.plot(t, paths[i]) for i in range(n_paths)]\n",
    "\n",
    "plt.title('Simulations %d Steps %d Sigma %.2f r %.2f S_0 %.2f' % (n_paths, steps, vol, r, S_t))\n",
    "plt.xlabel('t')\n",
    "plt.ylabel('Stock Price')\n",
    "plt.show()"
   ]
  }
 ],
 "metadata": {
  "kernelspec": {
   "display_name": "Python 3",
   "language": "python",
   "name": "python3"
  },
  "language_info": {
   "codemirror_mode": {
    "name": "ipython",
    "version": 3
   },
   "file_extension": ".py",
   "mimetype": "text/x-python",
   "name": "python",
   "nbconvert_exporter": "python",
   "pygments_lexer": "ipython3",
   "version": "3.7.4"
  }
 },
 "nbformat": 4,
 "nbformat_minor": 2
}
