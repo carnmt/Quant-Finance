{
 "cells": [
  {
   "cell_type": "markdown",
   "metadata": {},
   "source": [
    "# Quant Finance - Clase 6 - Local Volatility"
   ]
  },
  {
   "cell_type": "code",
   "execution_count": null,
   "metadata": {},
   "outputs": [],
   "source": [
    "import sys\n",
    "sys.path.append('..')\n",
    "#Para poder leer los modulos dentro del directorio \n",
    "from library.bsmodel import BlackScholesModel\n",
    "import numpy as np\n",
    "import matplotlib.pyplot as plt\n",
    "from math import sqrt"
   ]
  },
  {
   "cell_type": "code",
   "execution_count": null,
   "metadata": {},
   "outputs": [],
   "source": [
    "model = BlackScholesModel( rate = 0.1, volatility = 0.2 )"
   ]
  },
  {
   "cell_type": "code",
   "execution_count": null,
   "metadata": {},
   "outputs": [],
   "source": [
    "w_samples = np.random.normal(0, 1, 100000)"
   ]
  },
  {
   "cell_type": "code",
   "execution_count": null,
   "metadata": {},
   "outputs": [],
   "source": [
    "prices = model.S_T_samples( 1, 1, w_samples )\n",
    "prices"
   ]
  },
  {
   "cell_type": "code",
   "execution_count": null,
   "metadata": {
    "scrolled": true
   },
   "outputs": [],
   "source": [
    "plt.xlim(0, 2.5)\n",
    "hist = plt.hist(prices, bins = 100)"
   ]
  },
  {
   "cell_type": "code",
   "execution_count": null,
   "metadata": {},
   "outputs": [],
   "source": [
    "r=0.1\n",
    "vol = 0.2\n",
    "\n",
    "S_t = 1\n",
    "steps = 10\n",
    "dt = 1/steps"
   ]
  },
  {
   "cell_type": "code",
   "execution_count": null,
   "metadata": {},
   "outputs": [],
   "source": [
    "prices = []\n",
    "\n",
    "for j in range(100000):\n",
    "    S = S_t\n",
    "    for i in range(steps):\n",
    "        dS = r * S * dt + vol * S * np.random.normal(0, 1) * sqrt(dt)\n",
    "        S = S + dS\n",
    "    prices.append(S)\n",
    "len(prices)"
   ]
  },
  {
   "cell_type": "code",
   "execution_count": null,
   "metadata": {},
   "outputs": [],
   "source": [
    "plt.xlim(0, 2.5)\n",
    "hist = plt.hist(prices, bins = 100, alpha=0.5)"
   ]
  },
  {
   "cell_type": "code",
   "execution_count": null,
   "metadata": {},
   "outputs": [],
   "source": [
    "#local vol\n",
    "prices2 = []\n",
    "for j in range(100000):\n",
    "    S = S_t\n",
    "    for i in range(steps):\n",
    "        dS = r * S * dt + (vol + (S - S_t) * (S - S_t) * vol / 0.1 * (S_t * S_t)  ) * S * np.random.normal(0, 1) * sqrt(dt)\n",
    "        S = S + dS\n",
    "    prices2.append(S)\n",
    "len(prices2)"
   ]
  },
  {
   "cell_type": "code",
   "execution_count": null,
   "metadata": {},
   "outputs": [],
   "source": [
    "plt.xlim(0, 2.5)\n",
    "bins = np.linspace(0, 2.5, 100)\n",
    "plt.hist(prices, bins, alpha=0.5, label='BS')\n",
    "plt.hist(prices2, bins, alpha=0.5, label='local vol')\n",
    "plt.legend(loc='upper right')\n",
    "plt.show()"
   ]
  }
 ],
 "metadata": {
  "kernelspec": {
   "display_name": "Python 3",
   "language": "python",
   "name": "python3"
  },
  "language_info": {
   "codemirror_mode": {
    "name": "ipython",
    "version": 3
   },
   "file_extension": ".py",
   "mimetype": "text/x-python",
   "name": "python",
   "nbconvert_exporter": "python",
   "pygments_lexer": "ipython3",
   "version": "3.7.4"
  }
 },
 "nbformat": 4,
 "nbformat_minor": 2
}
