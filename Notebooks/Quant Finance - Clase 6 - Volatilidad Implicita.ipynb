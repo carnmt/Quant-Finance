{
 "cells": [
  {
   "cell_type": "markdown",
   "metadata": {},
   "source": [
    "# Quant Finance - Clase 6 - Volatilidad Implicita"
   ]
  },
  {
   "cell_type": "markdown",
   "metadata": {},
   "source": [
    "## Libreria Stock Options"
   ]
  },
  {
   "cell_type": "markdown",
   "metadata": {},
   "source": [
    "Modulos necesarios\n",
    "\n",
    "varios de library (en github),\n",
    "\n",
    "matplotlib,\n",
    "\n",
    "datetime,\n",
    "\n",
    "sys"
   ]
  },
  {
   "cell_type": "markdown",
   "metadata": {},
   "source": [
    "### Importo los modulos"
   ]
  },
  {
   "cell_type": "code",
   "execution_count": null,
   "metadata": {},
   "outputs": [],
   "source": [
    "import sys\n",
    "sys.path.append('..')\n",
    "#Para poder leer los modulos dentro del directorio \n",
    "from library.stock import Stock\n",
    "from library.options import StockOption\n",
    "from library.market_data import MarketData\n",
    "from library.curves import FlatZeroCurve\n",
    "from library.volatility_surfaces import FlatVolatilitySurface\n",
    "from library.bspricer import BlackScholesFormulaPricer\n",
    "from library.mcpricer import SimpleMonteCarloPricer\n",
    "from library.bsmodel import BlackScholesModel\n",
    "from library.year_fractions import Actual360\n",
    "import yfinance as yf\n",
    "import datetime\n",
    "from scipy.optimize import newton, brentq\n",
    "from functools import partial\n",
    "import matplotlib.pyplot as plt"
   ]
  },
  {
   "cell_type": "markdown",
   "metadata": {},
   "source": [
    "#### 1) Fecha de valuación"
   ]
  },
  {
   "cell_type": "code",
   "execution_count": null,
   "metadata": {},
   "outputs": [],
   "source": [
    "t = datetime.date(2020,8,12)"
   ]
  },
  {
   "cell_type": "markdown",
   "metadata": {},
   "source": [
    "#### 2) Creamos el stock y agregamos solo su precio de cierre en t"
   ]
  },
  {
   "cell_type": "code",
   "execution_count": null,
   "metadata": {},
   "outputs": [],
   "source": [
    "stock = Stock( name = 'AAPL' )\n",
    "stock.add_close_price( time = t, price = 451.845 )"
   ]
  },
  {
   "cell_type": "markdown",
   "metadata": {},
   "source": [
    "#### 3) Creamos la superficie de volatilidad y agregamos volatilidad al cierre de t"
   ]
  },
  {
   "cell_type": "code",
   "execution_count": null,
   "metadata": {},
   "outputs": [],
   "source": [
    "vol_surface = FlatVolatilitySurface( name = 'AAPL_vol' )\n",
    "vol_surface.add_close_volatility( time = t, strike = None, maturity = None, volatility = 0.2 )"
   ]
  },
  {
   "cell_type": "markdown",
   "metadata": {},
   "source": [
    "#### 4) Creamos una curva de descuento flat y agregamos la tasa de descuento al cierre de t"
   ]
  },
  {
   "cell_type": "code",
   "execution_count": null,
   "metadata": {},
   "outputs": [],
   "source": [
    "zero_curve = FlatZeroCurve( name = 'US_ZERO', year_fraction = Actual360 )\n",
    "zero_curve.add_close_zero_rate( time = t, zero_rate = 0.0025 )"
   ]
  },
  {
   "cell_type": "markdown",
   "metadata": {},
   "source": [
    "#### 5) Creamos el objeto que contiene la información del mercado"
   ]
  },
  {
   "cell_type": "code",
   "execution_count": null,
   "metadata": {},
   "outputs": [],
   "source": [
    "market_data = MarketData()\n",
    "market_data.add_stock( stock )\n",
    "market_data.add_volatility_surface( vol_surface )\n",
    "market_data.add_zero_curve( zero_curve )"
   ]
  },
  {
   "cell_type": "markdown",
   "metadata": {},
   "source": [
    "#### 6) Definimos el instrumento de derivado (stock)"
   ]
  },
  {
   "cell_type": "code",
   "execution_count": null,
   "metadata": {},
   "outputs": [],
   "source": [
    "maturity = datetime.date(2020,8,28)\n",
    "option_type = 'call'\n",
    "option = StockOption(   underlier_name = 'AAPL', \n",
    "                        strike = 235, \n",
    "                        maturity = maturity, \n",
    "                        payoff_name = option_type\n",
    "                    )"
   ]
  },
  {
   "cell_type": "markdown",
   "metadata": {},
   "source": [
    "#### 7) Calculamos el precio usando diferentes pricers"
   ]
  },
  {
   "cell_type": "markdown",
   "metadata": {},
   "source": [
    "#### A) Formula de Black-Scholes"
   ]
  },
  {
   "cell_type": "code",
   "execution_count": null,
   "metadata": {},
   "outputs": [],
   "source": [
    "pricer = BlackScholesFormulaPricer( option = option, market_data = market_data ) \n",
    "pricer_parameters = {'underlier_vol': 'AAPL_vol', 'zero_curve': 'US_ZERO'}\n",
    "pricer.initialize_pricer(pricer_parameters)\n",
    "print( 'BS formula:' )\n",
    "print( pricer.npv(time = t) )"
   ]
  },
  {
   "cell_type": "code",
   "execution_count": null,
   "metadata": {},
   "outputs": [],
   "source": [
    "strikes = [205. , 210. , 220. , 225. , 230. , 235. , 240. , 245. , 250. ,\n",
    "       255. , 260. , 265. , 270. , 280. , 285. , 290. , 295. , 300. ,\n",
    "       305. , 310. , 315. , 320. , 325. , 330. , 335. , 340. , 345. ,\n",
    "       350. , 355. , 357.5, 360. , 362.5, 365. , 367.5, 370. , 372.5,\n",
    "       375. , 377.5, 380. , 382.5, 385. , 387.5, 390. , 392.5, 395. ,\n",
    "       397.5, 400. , 402.5, 405. , 407.5, 410. , 412.5, 415. , 420. ,\n",
    "       425. , 430. , 435. , 440. , 445. , 450. , 455. , 460. , 465. ,\n",
    "       470. , 475. , 480. , 485. , 490. , 495. , 500. , 505. , 510. ,\n",
    "       520. , 530. , 540. , 550. , 560. , 570. , 580. , 590. , 600. ,\n",
    "       610. , 620. , 630. , 640. , 650. , 660. , 670. , 680. , 690. ,\n",
    "       700. ]"
   ]
  },
  {
   "cell_type": "code",
   "execution_count": null,
   "metadata": {},
   "outputs": [],
   "source": [
    "prices = [2.4954e+02, 2.4595e+02, 2.3000e+02, 2.2000e+02, 2.2300e+02,\n",
    "       2.1800e+02, 2.1250e+02, 2.0570e+02, 2.0530e+02, 1.9621e+02,\n",
    "       1.9114e+02, 1.7182e+02, 1.8532e+02, 1.6572e+02, 1.7030e+02,\n",
    "       1.6735e+02, 1.5800e+02, 1.5190e+02, 1.4523e+02, 1.4528e+02,\n",
    "       1.2910e+02, 1.2200e+02, 1.2208e+02, 1.2770e+02, 1.1700e+02,\n",
    "       1.1010e+02, 1.0817e+02, 1.0300e+02, 9.6400e+01, 8.2700e+01,\n",
    "       9.1650e+01, 9.5250e+01, 8.6730e+01, 8.5900e+01, 8.0070e+01,\n",
    "       8.0250e+01, 7.5300e+01, 7.5500e+01, 7.0700e+01, 6.4390e+01,\n",
    "       6.8500e+01, 6.5000e+01, 6.3760e+01, 6.1000e+01, 5.8600e+01,\n",
    "       5.5850e+01, 5.3440e+01, 5.0690e+01, 4.9570e+01, 4.6400e+01,\n",
    "       4.4350e+01, 4.2350e+01, 3.9400e+01, 3.5300e+01, 3.1250e+01,\n",
    "       2.6960e+01, 2.3350e+01, 2.0150e+01, 1.6850e+01, 1.4000e+01,\n",
    "       1.1700e+01, 9.6300e+00, 7.9500e+00, 6.5800e+00, 5.5000e+00,\n",
    "       4.5500e+00, 3.8500e+00, 3.2000e+00, 2.7500e+00, 2.3900e+00,\n",
    "       2.0600e+00, 1.8200e+00, 1.4200e+00, 1.1500e+00, 9.4000e-01,\n",
    "       7.9000e-01, 6.5000e-01, 5.5000e-01, 4.5000e-01, 4.0000e-01,\n",
    "       3.3000e-01, 3.2000e-01, 3.1000e-01, 2.0000e-01, 1.6000e-01,\n",
    "       1.7000e-01, 1.2000e-01, 5.0000e-02, 1.0000e-01, 7.0000e-02,\n",
    "       8.0000e-02]"
   ]
  },
  {
   "cell_type": "code",
   "execution_count": null,
   "metadata": {},
   "outputs": [],
   "source": [
    "strikes[40]"
   ]
  },
  {
   "cell_type": "code",
   "execution_count": null,
   "metadata": {},
   "outputs": [],
   "source": [
    "prices[40]"
   ]
  },
  {
   "cell_type": "code",
   "execution_count": null,
   "metadata": {},
   "outputs": [],
   "source": [
    "def c(vol, price, strike):\n",
    "    vol_surface.add_close_volatility( time = t, strike = None, maturity = None, volatility = vol )\n",
    "    option = StockOption(   underlier_name = 'AAPL', \n",
    "                            strike = strike, \n",
    "                            maturity = maturity, \n",
    "                            payoff_name = option_type\n",
    "                        )\n",
    "    pricer = BlackScholesFormulaPricer( option = option, market_data = market_data ) \n",
    "    pricer_parameters = {'underlier_vol': 'AAPL_vol', 'zero_curve': 'US_ZERO'}\n",
    "    pricer.initialize_pricer(pricer_parameters)\n",
    "    return price - pricer.npv(time = t)"
   ]
  },
  {
   "cell_type": "code",
   "execution_count": null,
   "metadata": {},
   "outputs": [],
   "source": [
    "impl_vol = newton(c, 1, args = (prices[0], strikes[0]))\n",
    "#impl_vol = brentq(c, 0.001, 2, args = (prices[0], strikes[0]))\n",
    "impl_vol"
   ]
  },
  {
   "cell_type": "code",
   "execution_count": null,
   "metadata": {},
   "outputs": [],
   "source": [
    "vol_surface.add_close_volatility( time = t, strike = None, maturity = None, volatility = impl_vol )\n",
    "option = StockOption(   underlier_name = 'AAPL', \n",
    "                            strike = strikes[0], \n",
    "                            maturity = maturity, \n",
    "                            payoff_name = option_type\n",
    "                        )\n",
    "pricer = BlackScholesFormulaPricer( option = option, market_data = market_data ) \n",
    "pricer_parameters = {'underlier_vol': 'AAPL_vol', 'zero_curve': 'US_ZERO'}\n",
    "pricer.initialize_pricer(pricer_parameters)\n",
    "pricer.npv(time = t)"
   ]
  },
  {
   "cell_type": "code",
   "execution_count": null,
   "metadata": {},
   "outputs": [],
   "source": [
    "impl_vols = []\n",
    "for i in range(0,len(strikes)):\n",
    "    try:\n",
    "        impl_vol = newton(c, 1, args = (prices[i], strikes[i]))\n",
    "        #impl_vol = brentq(c, 0.01, 2, args = (prices[i], strikes[i]))\n",
    "    except:\n",
    "        impl_vols.append(0)\n",
    "    else:\n",
    "        impl_vols.append(impl_vol)"
   ]
  },
  {
   "cell_type": "code",
   "execution_count": null,
   "metadata": {},
   "outputs": [],
   "source": [
    "impl_vols"
   ]
  },
  {
   "cell_type": "code",
   "execution_count": null,
   "metadata": {},
   "outputs": [],
   "source": [
    "plt.plot(strikes, impl_vols, 'ro')"
   ]
  },
  {
   "cell_type": "code",
   "execution_count": null,
   "metadata": {},
   "outputs": [],
   "source": []
  }
 ],
 "metadata": {
  "celltoolbar": "Raw Cell Format",
  "kernelspec": {
   "display_name": "Python 3",
   "language": "python",
   "name": "python3"
  },
  "language_info": {
   "codemirror_mode": {
    "name": "ipython",
    "version": 3
   },
   "file_extension": ".py",
   "mimetype": "text/x-python",
   "name": "python",
   "nbconvert_exporter": "python",
   "pygments_lexer": "ipython3",
   "version": "3.7.4"
  }
 },
 "nbformat": 4,
 "nbformat_minor": 4
}
